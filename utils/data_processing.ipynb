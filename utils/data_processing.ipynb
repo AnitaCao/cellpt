{
 "cells": [
  {
   "cell_type": "code",
   "execution_count": 1,
   "metadata": {},
   "outputs": [],
   "source": [
    "import pandas as pd, numpy as np\n",
    "from pathlib import Path\n",
    "import zarr"
   ]
  },
  {
   "cell_type": "code",
   "execution_count": 1,
   "metadata": {},
   "outputs": [],
   "source": [
    "import pandas as pd\n",
    "\n",
    "df = pd.read_csv(\"/hpc/group/jilab/rz179/cellpt/combined/16s/3xZoomed/combined_meta_uniform3x16s_selected_train.csv\")\n",
    "label_col = \"cell_type\"  # whatever your label column is\n",
    "counts = df[label_col].value_counts()\n",
    "cap = int(3 * counts.median())  # try 3, then 2 if collapse remains\n",
    "\n",
    "df_bal = df.groupby(label_col, group_keys=False).apply(\n",
    "    lambda g: g.sample(n=min(len(g), cap), random_state=42)\n",
    ")\n",
    "df_bal.to_csv(\"/hpc/group/jilab/rz179/cellpt/combined/16s/3xZoomed/train_capped.csv\", index=False)\n"
   ]
  },
  {
   "cell_type": "code",
   "execution_count": null,
   "metadata": {},
   "outputs": [],
   "source": [
    "# 1) Decode 'aa...-N' -> (prefix_int, suffix_int)\n",
    "_hex_from = dict(zip(\"abcdefghijklmnop\", \"0123456789abcdef\"))\n",
    "def decode_cellid(cellid: str):\n",
    "    pref, suf = cellid.split(\"-\")\n",
    "    # sanity: Xenium prefixes must be a..p only\n",
    "    if any(ch not in _hex_from for ch in pref):\n",
    "        raise ValueError(f\"Bad prefix letters in {cellid}\")\n",
    "    hexstr = \"\".join(_hex_from[ch] for ch in pref)\n",
    "    return int(hexstr, 16), int(suf)\n",
    "\n",
    "# 2) Load CSV of labels (your file has columns: cellid, celltype)\n",
    "csv = \"/hpc/group/jilab/hz/xenium/celltype/Xenium_human_Lung_Cancer_FFPE.csv\"\n",
    "df = pd.read_csv(csv)\n",
    "df = df.rename(columns={\"cellid\":\"cell_id\", \"celltype\":\"cell_type\"})\n",
    "df[[\"prefix_int\",\"suffix_int\"]] = df[\"cell_id\"].apply(\n",
    "    lambda s: pd.Series(decode_cellid(str(s)))\n",
    ")\n",
    "\n",
    "# 3) Open Zarr and index its /cell_id table -> row index\n",
    "z = zarr.open(\"/path/to/your/cells.zarr.zip\", mode=\"r\")  # adjust path\n",
    "cid = np.asarray(z[\"cell_id\"][:], dtype=np.uint32)       # shape (N,2)\n",
    "# map (prefix_int, suffix_int) -> row idx\n",
    "key2idx = { (int(p), int(s)): i for i,(p,s) in enumerate(cid) }\n",
    "df[\"zarr_idx\"] = df[[\"prefix_int\",\"suffix_int\"]].apply(lambda r: key2idx.get((int(r[0]), int(r[1]))), axis=1)\n",
    "\n",
    "# 4) Report coverage\n",
    "n_total   = len(df)\n",
    "n_mapped  = df[\"zarr_idx\"].notna().sum()\n",
    "print(f\"Mapped {n_mapped}/{n_total} rows to Zarr indices\")\n",
    "if n_mapped < n_total:\n",
    "    print(\"Examples not found:\", df[df[\"zarr_idx\"].isna()].head(10)[[\"cell_id\",\"cell_type\"]].to_dict(orient=\"records\"))"
   ]
  }
 ],
 "metadata": {
  "kernelspec": {
   "display_name": "Python 3",
   "language": "python",
   "name": "python3"
  },
  "language_info": {
   "codemirror_mode": {
    "name": "ipython",
    "version": 3
   },
   "file_extension": ".py",
   "mimetype": "text/x-python",
   "name": "python",
   "nbconvert_exporter": "python",
   "pygments_lexer": "ipython3",
   "version": "3.10.18"
  }
 },
 "nbformat": 4,
 "nbformat_minor": 2
}
